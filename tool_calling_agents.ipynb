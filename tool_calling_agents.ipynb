{
  "cells": [
    {
      "cell_type": "markdown",
      "metadata": {
        "id": "view-in-github",
        "colab_type": "text"
      },
      "source": [
        "<a href=\"https://colab.research.google.com/github/acb-code/example-agents/blob/main/tool_calling_agents.ipynb\" target=\"_parent\"><img src=\"https://colab.research.google.com/assets/colab-badge.svg\" alt=\"Open In Colab\"/></a>"
      ]
    },
    {
      "cell_type": "markdown",
      "metadata": {
        "id": "Pi9CF0391ARI"
      },
      "source": [
        "# Integrating Agents With Tools\n",
        "\n",
        "This notebook is part of the [Hugging Face Agents Course](https://www.hf.co/learn/agents-course), a free Course from beginner to expert, where you learn to build Agents.\n",
        "\n",
        "![Agents course share](https://huggingface.co/datasets/agents-course/course-images/resolve/main/en/communication/share.png)"
      ]
    },
    {
      "cell_type": "markdown",
      "metadata": {
        "id": "9gsYky7F1GzT"
      },
      "source": [
        "## Let's install the dependencies and login to our HF account to access the Inference API\n",
        "\n",
        "If you haven't installed `smolagents` yet, you can do so by running the following command:"
      ]
    },
    {
      "cell_type": "code",
      "execution_count": 1,
      "metadata": {
        "id": "MoFopncp0pnJ",
        "collapsed": true,
        "outputId": "70b9899b-5402-4d53-93fc-17c36ae6c3e7",
        "colab": {
          "base_uri": "https://localhost:8080/",
          "height": 1000
        }
      },
      "outputs": [
        {
          "output_type": "stream",
          "name": "stdout",
          "text": [
            "Requirement already satisfied: google-genai in /usr/local/lib/python3.11/dist-packages (1.2.0)\n",
            "Collecting google-genai\n",
            "  Downloading google_genai-1.5.0-py3-none-any.whl.metadata (29 kB)\n",
            "Collecting smolagents[litellm]\n",
            "  Downloading smolagents-1.10.0-py3-none-any.whl.metadata (14 kB)\n",
            "Requirement already satisfied: huggingface-hub>=0.28.0 in /usr/local/lib/python3.11/dist-packages (from smolagents[litellm]) (0.28.1)\n",
            "Requirement already satisfied: requests>=2.32.3 in /usr/local/lib/python3.11/dist-packages (from smolagents[litellm]) (2.32.3)\n",
            "Requirement already satisfied: rich>=13.9.4 in /usr/local/lib/python3.11/dist-packages (from smolagents[litellm]) (13.9.4)\n",
            "Collecting pandas>=2.2.3 (from smolagents[litellm])\n",
            "  Downloading pandas-2.2.3-cp311-cp311-manylinux_2_17_x86_64.manylinux2014_x86_64.whl.metadata (89 kB)\n",
            "\u001b[2K     \u001b[90m━━━━━━━━━━━━━━━━━━━━━━━━━━━━━━━━━━━━━━━━\u001b[0m \u001b[32m89.9/89.9 kB\u001b[0m \u001b[31m3.5 MB/s\u001b[0m eta \u001b[36m0:00:00\u001b[0m\n",
            "\u001b[?25hRequirement already satisfied: jinja2>=3.1.4 in /usr/local/lib/python3.11/dist-packages (from smolagents[litellm]) (3.1.5)\n",
            "Requirement already satisfied: pillow>=11.0.0 in /usr/local/lib/python3.11/dist-packages (from smolagents[litellm]) (11.1.0)\n",
            "Collecting markdownify>=0.14.1 (from smolagents[litellm])\n",
            "  Downloading markdownify-1.1.0-py3-none-any.whl.metadata (9.1 kB)\n",
            "Collecting duckduckgo-search>=6.3.7 (from smolagents[litellm])\n",
            "  Downloading duckduckgo_search-7.5.1-py3-none-any.whl.metadata (17 kB)\n",
            "Collecting python-dotenv (from smolagents[litellm])\n",
            "  Downloading python_dotenv-1.0.1-py3-none-any.whl.metadata (23 kB)\n",
            "Collecting litellm>=1.60.2 (from smolagents[litellm])\n",
            "  Downloading litellm-1.63.3-py3-none-any.whl.metadata (37 kB)\n",
            "Collecting anyio<5.0.0dev,>=4.8.0 (from google-genai)\n",
            "  Downloading anyio-4.8.0-py3-none-any.whl.metadata (4.6 kB)\n",
            "Requirement already satisfied: google-auth<3.0.0dev,>=2.14.1 in /usr/local/lib/python3.11/dist-packages (from google-genai) (2.38.0)\n",
            "Requirement already satisfied: httpx<1.0.0dev,>=0.28.1 in /usr/local/lib/python3.11/dist-packages (from google-genai) (0.28.1)\n",
            "Requirement already satisfied: pydantic<3.0.0dev,>=2.0.0 in /usr/local/lib/python3.11/dist-packages (from google-genai) (2.10.6)\n",
            "Requirement already satisfied: websockets<15.0dev,>=13.0 in /usr/local/lib/python3.11/dist-packages (from google-genai) (14.2)\n",
            "Requirement already satisfied: typing-extensions<5.0.0dev,>=4.11.0 in /usr/local/lib/python3.11/dist-packages (from google-genai) (4.12.2)\n",
            "Requirement already satisfied: idna>=2.8 in /usr/local/lib/python3.11/dist-packages (from anyio<5.0.0dev,>=4.8.0->google-genai) (3.10)\n",
            "Requirement already satisfied: sniffio>=1.1 in /usr/local/lib/python3.11/dist-packages (from anyio<5.0.0dev,>=4.8.0->google-genai) (1.3.1)\n",
            "Requirement already satisfied: click>=8.1.8 in /usr/local/lib/python3.11/dist-packages (from duckduckgo-search>=6.3.7->smolagents[litellm]) (8.1.8)\n",
            "Collecting primp>=0.14.0 (from duckduckgo-search>=6.3.7->smolagents[litellm])\n",
            "  Downloading primp-0.14.0-cp38-abi3-manylinux_2_17_x86_64.manylinux2014_x86_64.whl.metadata (13 kB)\n",
            "Requirement already satisfied: lxml>=5.3.0 in /usr/local/lib/python3.11/dist-packages (from duckduckgo-search>=6.3.7->smolagents[litellm]) (5.3.1)\n",
            "Requirement already satisfied: cachetools<6.0,>=2.0.0 in /usr/local/lib/python3.11/dist-packages (from google-auth<3.0.0dev,>=2.14.1->google-genai) (5.5.2)\n",
            "Requirement already satisfied: pyasn1-modules>=0.2.1 in /usr/local/lib/python3.11/dist-packages (from google-auth<3.0.0dev,>=2.14.1->google-genai) (0.4.1)\n",
            "Requirement already satisfied: rsa<5,>=3.1.4 in /usr/local/lib/python3.11/dist-packages (from google-auth<3.0.0dev,>=2.14.1->google-genai) (4.9)\n",
            "Requirement already satisfied: certifi in /usr/local/lib/python3.11/dist-packages (from httpx<1.0.0dev,>=0.28.1->google-genai) (2025.1.31)\n",
            "Requirement already satisfied: httpcore==1.* in /usr/local/lib/python3.11/dist-packages (from httpx<1.0.0dev,>=0.28.1->google-genai) (1.0.7)\n",
            "Requirement already satisfied: h11<0.15,>=0.13 in /usr/local/lib/python3.11/dist-packages (from httpcore==1.*->httpx<1.0.0dev,>=0.28.1->google-genai) (0.14.0)\n",
            "Requirement already satisfied: filelock in /usr/local/lib/python3.11/dist-packages (from huggingface-hub>=0.28.0->smolagents[litellm]) (3.17.0)\n",
            "Requirement already satisfied: fsspec>=2023.5.0 in /usr/local/lib/python3.11/dist-packages (from huggingface-hub>=0.28.0->smolagents[litellm]) (2024.10.0)\n",
            "Requirement already satisfied: packaging>=20.9 in /usr/local/lib/python3.11/dist-packages (from huggingface-hub>=0.28.0->smolagents[litellm]) (24.2)\n",
            "Requirement already satisfied: pyyaml>=5.1 in /usr/local/lib/python3.11/dist-packages (from huggingface-hub>=0.28.0->smolagents[litellm]) (6.0.2)\n",
            "Requirement already satisfied: tqdm>=4.42.1 in /usr/local/lib/python3.11/dist-packages (from huggingface-hub>=0.28.0->smolagents[litellm]) (4.67.1)\n",
            "Requirement already satisfied: MarkupSafe>=2.0 in /usr/local/lib/python3.11/dist-packages (from jinja2>=3.1.4->smolagents[litellm]) (3.0.2)\n",
            "Requirement already satisfied: aiohttp in /usr/local/lib/python3.11/dist-packages (from litellm>=1.60.2->smolagents[litellm]) (3.11.13)\n",
            "Requirement already satisfied: importlib-metadata>=6.8.0 in /usr/local/lib/python3.11/dist-packages (from litellm>=1.60.2->smolagents[litellm]) (8.6.1)\n",
            "Requirement already satisfied: jsonschema<5.0.0,>=4.22.0 in /usr/local/lib/python3.11/dist-packages (from litellm>=1.60.2->smolagents[litellm]) (4.23.0)\n",
            "Requirement already satisfied: openai>=1.61.0 in /usr/local/lib/python3.11/dist-packages (from litellm>=1.60.2->smolagents[litellm]) (1.61.1)\n",
            "Collecting tiktoken>=0.7.0 (from litellm>=1.60.2->smolagents[litellm])\n",
            "  Downloading tiktoken-0.9.0-cp311-cp311-manylinux_2_17_x86_64.manylinux2014_x86_64.whl.metadata (6.7 kB)\n",
            "Requirement already satisfied: tokenizers in /usr/local/lib/python3.11/dist-packages (from litellm>=1.60.2->smolagents[litellm]) (0.21.0)\n",
            "Requirement already satisfied: beautifulsoup4<5,>=4.9 in /usr/local/lib/python3.11/dist-packages (from markdownify>=0.14.1->smolagents[litellm]) (4.13.3)\n",
            "Requirement already satisfied: six<2,>=1.15 in /usr/local/lib/python3.11/dist-packages (from markdownify>=0.14.1->smolagents[litellm]) (1.17.0)\n",
            "Requirement already satisfied: numpy>=1.23.2 in /usr/local/lib/python3.11/dist-packages (from pandas>=2.2.3->smolagents[litellm]) (1.26.4)\n",
            "Requirement already satisfied: python-dateutil>=2.8.2 in /usr/local/lib/python3.11/dist-packages (from pandas>=2.2.3->smolagents[litellm]) (2.8.2)\n",
            "Requirement already satisfied: pytz>=2020.1 in /usr/local/lib/python3.11/dist-packages (from pandas>=2.2.3->smolagents[litellm]) (2025.1)\n",
            "Requirement already satisfied: tzdata>=2022.7 in /usr/local/lib/python3.11/dist-packages (from pandas>=2.2.3->smolagents[litellm]) (2025.1)\n",
            "Requirement already satisfied: annotated-types>=0.6.0 in /usr/local/lib/python3.11/dist-packages (from pydantic<3.0.0dev,>=2.0.0->google-genai) (0.7.0)\n",
            "Requirement already satisfied: pydantic-core==2.27.2 in /usr/local/lib/python3.11/dist-packages (from pydantic<3.0.0dev,>=2.0.0->google-genai) (2.27.2)\n",
            "Requirement already satisfied: charset-normalizer<4,>=2 in /usr/local/lib/python3.11/dist-packages (from requests>=2.32.3->smolagents[litellm]) (3.4.1)\n",
            "Requirement already satisfied: urllib3<3,>=1.21.1 in /usr/local/lib/python3.11/dist-packages (from requests>=2.32.3->smolagents[litellm]) (2.3.0)\n",
            "Requirement already satisfied: markdown-it-py>=2.2.0 in /usr/local/lib/python3.11/dist-packages (from rich>=13.9.4->smolagents[litellm]) (3.0.0)\n",
            "Requirement already satisfied: pygments<3.0.0,>=2.13.0 in /usr/local/lib/python3.11/dist-packages (from rich>=13.9.4->smolagents[litellm]) (2.18.0)\n",
            "Requirement already satisfied: soupsieve>1.2 in /usr/local/lib/python3.11/dist-packages (from beautifulsoup4<5,>=4.9->markdownify>=0.14.1->smolagents[litellm]) (2.6)\n",
            "Requirement already satisfied: zipp>=3.20 in /usr/local/lib/python3.11/dist-packages (from importlib-metadata>=6.8.0->litellm>=1.60.2->smolagents[litellm]) (3.21.0)\n",
            "Requirement already satisfied: attrs>=22.2.0 in /usr/local/lib/python3.11/dist-packages (from jsonschema<5.0.0,>=4.22.0->litellm>=1.60.2->smolagents[litellm]) (25.1.0)\n",
            "Requirement already satisfied: jsonschema-specifications>=2023.03.6 in /usr/local/lib/python3.11/dist-packages (from jsonschema<5.0.0,>=4.22.0->litellm>=1.60.2->smolagents[litellm]) (2024.10.1)\n",
            "Requirement already satisfied: referencing>=0.28.4 in /usr/local/lib/python3.11/dist-packages (from jsonschema<5.0.0,>=4.22.0->litellm>=1.60.2->smolagents[litellm]) (0.36.2)\n",
            "Requirement already satisfied: rpds-py>=0.7.1 in /usr/local/lib/python3.11/dist-packages (from jsonschema<5.0.0,>=4.22.0->litellm>=1.60.2->smolagents[litellm]) (0.23.1)\n",
            "Requirement already satisfied: mdurl~=0.1 in /usr/local/lib/python3.11/dist-packages (from markdown-it-py>=2.2.0->rich>=13.9.4->smolagents[litellm]) (0.1.2)\n",
            "Requirement already satisfied: distro<2,>=1.7.0 in /usr/local/lib/python3.11/dist-packages (from openai>=1.61.0->litellm>=1.60.2->smolagents[litellm]) (1.9.0)\n",
            "Requirement already satisfied: jiter<1,>=0.4.0 in /usr/local/lib/python3.11/dist-packages (from openai>=1.61.0->litellm>=1.60.2->smolagents[litellm]) (0.8.2)\n",
            "Requirement already satisfied: pyasn1<0.7.0,>=0.4.6 in /usr/local/lib/python3.11/dist-packages (from pyasn1-modules>=0.2.1->google-auth<3.0.0dev,>=2.14.1->google-genai) (0.6.1)\n",
            "Requirement already satisfied: regex>=2022.1.18 in /usr/local/lib/python3.11/dist-packages (from tiktoken>=0.7.0->litellm>=1.60.2->smolagents[litellm]) (2024.11.6)\n",
            "Requirement already satisfied: aiohappyeyeballs>=2.3.0 in /usr/local/lib/python3.11/dist-packages (from aiohttp->litellm>=1.60.2->smolagents[litellm]) (2.4.6)\n",
            "Requirement already satisfied: aiosignal>=1.1.2 in /usr/local/lib/python3.11/dist-packages (from aiohttp->litellm>=1.60.2->smolagents[litellm]) (1.3.2)\n",
            "Requirement already satisfied: frozenlist>=1.1.1 in /usr/local/lib/python3.11/dist-packages (from aiohttp->litellm>=1.60.2->smolagents[litellm]) (1.5.0)\n",
            "Requirement already satisfied: multidict<7.0,>=4.5 in /usr/local/lib/python3.11/dist-packages (from aiohttp->litellm>=1.60.2->smolagents[litellm]) (6.1.0)\n",
            "Requirement already satisfied: propcache>=0.2.0 in /usr/local/lib/python3.11/dist-packages (from aiohttp->litellm>=1.60.2->smolagents[litellm]) (0.3.0)\n",
            "Requirement already satisfied: yarl<2.0,>=1.17.0 in /usr/local/lib/python3.11/dist-packages (from aiohttp->litellm>=1.60.2->smolagents[litellm]) (1.18.3)\n",
            "Downloading google_genai-1.5.0-py3-none-any.whl (142 kB)\n",
            "\u001b[2K   \u001b[90m━━━━━━━━━━━━━━━━━━━━━━━━━━━━━━━━━━━━━━━━\u001b[0m \u001b[32m142.4/142.4 kB\u001b[0m \u001b[31m8.2 MB/s\u001b[0m eta \u001b[36m0:00:00\u001b[0m\n",
            "\u001b[?25hDownloading anyio-4.8.0-py3-none-any.whl (96 kB)\n",
            "\u001b[2K   \u001b[90m━━━━━━━━━━━━━━━━━━━━━━━━━━━━━━━━━━━━━━━━\u001b[0m \u001b[32m96.0/96.0 kB\u001b[0m \u001b[31m5.7 MB/s\u001b[0m eta \u001b[36m0:00:00\u001b[0m\n",
            "\u001b[?25hDownloading duckduckgo_search-7.5.1-py3-none-any.whl (20 kB)\n",
            "Downloading litellm-1.63.3-py3-none-any.whl (6.9 MB)\n",
            "\u001b[2K   \u001b[90m━━━━━━━━━━━━━━━━━━━━━━━━━━━━━━━━━━━━━━━━\u001b[0m \u001b[32m6.9/6.9 MB\u001b[0m \u001b[31m36.3 MB/s\u001b[0m eta \u001b[36m0:00:00\u001b[0m\n",
            "\u001b[?25hDownloading markdownify-1.1.0-py3-none-any.whl (13 kB)\n",
            "Downloading pandas-2.2.3-cp311-cp311-manylinux_2_17_x86_64.manylinux2014_x86_64.whl (13.1 MB)\n",
            "\u001b[2K   \u001b[90m━━━━━━━━━━━━━━━━━━━━━━━━━━━━━━━━━━━━━━━━\u001b[0m \u001b[32m13.1/13.1 MB\u001b[0m \u001b[31m53.8 MB/s\u001b[0m eta \u001b[36m0:00:00\u001b[0m\n",
            "\u001b[?25hDownloading python_dotenv-1.0.1-py3-none-any.whl (19 kB)\n",
            "Downloading smolagents-1.10.0-py3-none-any.whl (104 kB)\n",
            "\u001b[2K   \u001b[90m━━━━━━━━━━━━━━━━━━━━━━━━━━━━━━━━━━━━━━━━\u001b[0m \u001b[32m104.6/104.6 kB\u001b[0m \u001b[31m6.3 MB/s\u001b[0m eta \u001b[36m0:00:00\u001b[0m\n",
            "\u001b[?25hDownloading primp-0.14.0-cp38-abi3-manylinux_2_17_x86_64.manylinux2014_x86_64.whl (3.3 MB)\n",
            "\u001b[2K   \u001b[90m━━━━━━━━━━━━━━━━━━━━━━━━━━━━━━━━━━━━━━━━\u001b[0m \u001b[32m3.3/3.3 MB\u001b[0m \u001b[31m49.6 MB/s\u001b[0m eta \u001b[36m0:00:00\u001b[0m\n",
            "\u001b[?25hDownloading tiktoken-0.9.0-cp311-cp311-manylinux_2_17_x86_64.manylinux2014_x86_64.whl (1.2 MB)\n",
            "\u001b[2K   \u001b[90m━━━━━━━━━━━━━━━━━━━━━━━━━━━━━━━━━━━━━━━━\u001b[0m \u001b[32m1.2/1.2 MB\u001b[0m \u001b[31m36.3 MB/s\u001b[0m eta \u001b[36m0:00:00\u001b[0m\n",
            "\u001b[?25hInstalling collected packages: python-dotenv, primp, anyio, tiktoken, pandas, markdownify, duckduckgo-search, smolagents, google-genai, litellm\n",
            "  Attempting uninstall: anyio\n",
            "    Found existing installation: anyio 3.7.1\n",
            "    Uninstalling anyio-3.7.1:\n",
            "      Successfully uninstalled anyio-3.7.1\n",
            "  Attempting uninstall: pandas\n",
            "    Found existing installation: pandas 2.2.2\n",
            "    Uninstalling pandas-2.2.2:\n",
            "      Successfully uninstalled pandas-2.2.2\n",
            "  Attempting uninstall: google-genai\n",
            "    Found existing installation: google-genai 1.2.0\n",
            "    Uninstalling google-genai-1.2.0:\n",
            "      Successfully uninstalled google-genai-1.2.0\n",
            "\u001b[31mERROR: pip's dependency resolver does not currently take into account all the packages that are installed. This behaviour is the source of the following dependency conflicts.\n",
            "google-colab 1.0.0 requires pandas==2.2.2, but you have pandas 2.2.3 which is incompatible.\n",
            "jupyter-server 1.24.0 requires anyio<4,>=3.1.0, but you have anyio 4.8.0 which is incompatible.\u001b[0m\u001b[31m\n",
            "\u001b[0mSuccessfully installed anyio-4.8.0 duckduckgo-search-7.5.1 google-genai-1.5.0 litellm-1.63.3 markdownify-1.1.0 pandas-2.2.3 primp-0.14.0 python-dotenv-1.0.1 smolagents-1.10.0 tiktoken-0.9.0\n"
          ]
        },
        {
          "output_type": "display_data",
          "data": {
            "application/vnd.colab-display-data+json": {
              "pip_warning": {
                "packages": [
                  "google"
                ]
              },
              "id": "e301babb950f407ba637058086039a24"
            }
          },
          "metadata": {}
        }
      ],
      "source": [
        "!pip install 'smolagents[litellm]' google-genai -U"
      ]
    },
    {
      "cell_type": "code",
      "source": [
        "# testing access to gemini\n",
        "from google import genai\n",
        "from google.colab import userdata\n",
        "gemini_api_key = userdata.get('GOOGLE_API_KEY')\n",
        "\n",
        "client = genai.Client(api_key=gemini_api_key)\n",
        "response = client.models.generate_content(\n",
        "    model=\"gemini-2.0-flash-lite\", contents=\"Explain how AI works\"\n",
        ")\n",
        "print(response.text)"
      ],
      "metadata": {
        "collapsed": true,
        "id": "f5CsxbQjOGbY",
        "outputId": "f0794332-e7a7-475c-b5ee-acbe3004405e",
        "colab": {
          "base_uri": "https://localhost:8080/"
        }
      },
      "execution_count": 2,
      "outputs": [
        {
          "output_type": "stream",
          "name": "stdout",
          "text": [
            "AI, or Artificial Intelligence, is a broad field encompassing the development of computer systems that can perform tasks that typically require human intelligence. It's not a single technology but rather a collection of techniques and approaches. Here's a breakdown of how AI generally works, covering key concepts and approaches:\n",
            "\n",
            "**1. Core Principles:**\n",
            "\n",
            "*   **Learning:**  AI systems \"learn\" from data, improving their performance on a specific task over time. This learning process is crucial.\n",
            "*   **Reasoning:**  AI systems can draw inferences, make deductions, and reach conclusions based on the information they possess.\n",
            "*   **Problem-Solving:** AI is designed to find solutions to challenges, often by exploring different possibilities and evaluating outcomes.\n",
            "*   **Perception:**  AI systems can \"perceive\" the world through sensors (e.g., cameras, microphones) and process the data they receive.\n",
            "*   **Natural Language Processing (NLP):**  AI can understand, interpret, and generate human language.\n",
            "\n",
            "**2. Key Approaches to AI:**\n",
            "\n",
            "*   **Machine Learning (ML):** This is a dominant approach, where algorithms learn from data without being explicitly programmed.  ML is further categorized into:\n",
            "    *   **Supervised Learning:** The algorithm is trained on labeled data (input data paired with the correct output).  Examples include:\n",
            "        *   **Classification:** Categorizing data into predefined classes (e.g., spam detection, image recognition).\n",
            "        *   **Regression:** Predicting a continuous value (e.g., house price prediction, sales forecasting).\n",
            "    *   **Unsupervised Learning:** The algorithm is trained on unlabeled data, and it discovers patterns, relationships, and structures in the data. Examples include:\n",
            "        *   **Clustering:** Grouping similar data points together (e.g., customer segmentation).\n",
            "        *   **Dimensionality Reduction:** Reducing the number of variables while preserving important information.\n",
            "    *   **Reinforcement Learning:**  The algorithm learns by trial and error, receiving rewards for correct actions and penalties for incorrect ones.  This is often used for training robots and game-playing AI (e.g., AlphaGo).\n",
            "*   **Deep Learning (DL):** A subfield of machine learning that uses artificial neural networks with multiple layers (deep neural networks) to analyze data.  This approach is particularly effective for complex tasks such as image recognition, speech recognition, and natural language processing.\n",
            "    *   **Neural Networks:** Inspired by the structure of the human brain, these networks consist of interconnected nodes (neurons) organized in layers.  Information is passed between layers, and the connections between nodes are adjusted during training.\n",
            "    *   **Convolutional Neural Networks (CNNs):** Used extensively for image and video processing, they excel at recognizing patterns in spatial data.\n",
            "    *   **Recurrent Neural Networks (RNNs):** Designed for sequential data (e.g., text, speech, time series), they have \"memory\" to process information over time.\n",
            "*   **Expert Systems:**  These systems use a knowledge base and a set of rules to provide expert-level advice or solutions in a specific domain. They mimic the decision-making process of a human expert.  They are less common today, but still used in some specialized applications.\n",
            "*   **Rule-Based Systems:**  These systems rely on a set of explicit rules to make decisions.  They are easier to understand and debug compared to ML/DL models but are often less adaptable and may not handle complex, real-world situations as well.\n",
            "*   **Symbolic AI (GOFAI - Good Old-Fashioned AI):**  This older approach focused on representing knowledge using symbols and logical reasoning. It involves creating systems that manipulate these symbols to solve problems.\n",
            "\n",
            "**3. The General Workflow:**\n",
            "\n",
            "1.  **Data Collection:** Gathering relevant data is crucial.  The quality and quantity of the data significantly impact the AI system's performance.\n",
            "2.  **Data Preprocessing:** Cleaning, transforming, and preparing the data for the AI algorithm. This may involve removing noise, handling missing values, and converting data into a suitable format.\n",
            "3.  **Algorithm Selection:** Choosing the appropriate AI algorithm based on the task and the type of data.\n",
            "4.  **Model Training:**  Training the AI model using the prepared data.  This involves adjusting the model's parameters to minimize errors and optimize its performance.\n",
            "5.  **Model Evaluation:**  Assessing the model's performance on a separate set of data (the test set) to evaluate its accuracy and generalization ability.\n",
            "6.  **Deployment and Monitoring:**  Deploying the trained model to a production environment and continuously monitoring its performance.  Retraining may be required as new data becomes available.\n",
            "\n",
            "**4. Key Components within AI Systems:**\n",
            "\n",
            "*   **Algorithms:** The step-by-step instructions that guide the AI system's actions.\n",
            "*   **Data:** The raw information that the AI system uses for learning and processing.\n",
            "*   **Hardware:** The computing infrastructure required to run the AI algorithms, including processors, memory, and storage.  Often, specialized hardware like GPUs (Graphics Processing Units) or TPUs (Tensor Processing Units) are used for faster performance.\n",
            "*   **Software:** The code and libraries that implement the AI algorithms and manage the data flow.\n",
            "\n",
            "**5. Important Considerations:**\n",
            "\n",
            "*   **Bias:**  AI systems can inherit biases from the data they are trained on, leading to unfair or discriminatory outcomes.\n",
            "*   **Explainability (XAI):** Understanding how AI systems make decisions is increasingly important.  Efforts are underway to make AI models more transparent and interpretable.\n",
            "*   **Ethical Implications:**  AI raises a number of ethical concerns, including privacy, job displacement, and the potential for misuse.\n",
            "*   **Computational Resources:** Training and running AI models, particularly deep learning models, can be computationally expensive.\n",
            "\n",
            "**In Summary:**\n",
            "\n",
            "AI is a complex field that is constantly evolving.  It leverages various approaches and techniques to create intelligent systems that can learn from data, reason, solve problems, and perform tasks that traditionally required human intelligence.  Understanding the core principles, key approaches, and workflows is essential for grasping how AI works.  The field's continued development is transforming various industries and aspects of our lives, bringing both immense potential and important ethical considerations.\n",
            "\n"
          ]
        }
      ]
    },
    {
      "cell_type": "markdown",
      "source": [
        "Let's also login to the Hugging Face Hub to have access to the Inference API."
      ],
      "metadata": {
        "id": "cH-4W1GhYL4T"
      }
    },
    {
      "cell_type": "code",
      "execution_count": null,
      "metadata": {
        "id": "TFTc-ry70y1f"
      },
      "outputs": [],
      "source": [
        "# from huggingface_hub import notebook_login\n",
        "\n",
        "# notebook_login()"
      ]
    },
    {
      "cell_type": "markdown",
      "metadata": {
        "id": "ekKxaZrd1HlB"
      },
      "source": [
        "## Selecting a Playlist for the Party Using `smolagents` and a `ToolCallingAgent`\n",
        "\n",
        "Let's revisit the previous example where Alfred started party preparations, but this time we'll use a `ToolCallingAgent` to highlight the difference. We'll build an agent that can search the web using DuckDuckGo, just like in our Code Agent example. The only difference is the agent type - the framework handles everything else:"
      ]
    },
    {
      "cell_type": "code",
      "execution_count": 4,
      "metadata": {
        "colab": {
          "base_uri": "https://localhost:8080/",
          "height": 1000
        },
        "id": "6IInDOUN01sP",
        "outputId": "0571c204-dc68-4189-8e76-bcf8b6115208"
      },
      "outputs": [
        {
          "output_type": "display_data",
          "data": {
            "text/plain": [
              "\u001b[38;2;212;183;2m╭─\u001b[0m\u001b[38;2;212;183;2m───────────────────────────────────────────────────\u001b[0m\u001b[38;2;212;183;2m \u001b[0m\u001b[1;38;2;212;183;2mNew run\u001b[0m\u001b[38;2;212;183;2m \u001b[0m\u001b[38;2;212;183;2m───────────────────────────────────────────────────\u001b[0m\u001b[38;2;212;183;2m─╮\u001b[0m\n",
              "\u001b[38;2;212;183;2m│\u001b[0m                                                                                                                 \u001b[38;2;212;183;2m│\u001b[0m\n",
              "\u001b[38;2;212;183;2m│\u001b[0m \u001b[1mSearch for the best music recommendations for a party at the Wayne's mansion.\u001b[0m                                   \u001b[38;2;212;183;2m│\u001b[0m\n",
              "\u001b[38;2;212;183;2m│\u001b[0m                                                                                                                 \u001b[38;2;212;183;2m│\u001b[0m\n",
              "\u001b[38;2;212;183;2m╰─\u001b[0m\u001b[38;2;212;183;2m LiteLLMModel - gemini/gemini-2.0-flash-lite \u001b[0m\u001b[38;2;212;183;2m──────────────────────────────────────────────────────────────────\u001b[0m\u001b[38;2;212;183;2m─╯\u001b[0m\n"
            ],
            "text/html": [
              "<pre style=\"white-space:pre;overflow-x:auto;line-height:normal;font-family:Menlo,'DejaVu Sans Mono',consolas,'Courier New',monospace\"><span style=\"color: #d4b702; text-decoration-color: #d4b702\">╭──────────────────────────────────────────────────── </span><span style=\"color: #d4b702; text-decoration-color: #d4b702; font-weight: bold\">New run</span><span style=\"color: #d4b702; text-decoration-color: #d4b702\"> ────────────────────────────────────────────────────╮</span>\n",
              "<span style=\"color: #d4b702; text-decoration-color: #d4b702\">│</span>                                                                                                                 <span style=\"color: #d4b702; text-decoration-color: #d4b702\">│</span>\n",
              "<span style=\"color: #d4b702; text-decoration-color: #d4b702\">│</span> <span style=\"font-weight: bold\">Search for the best music recommendations for a party at the Wayne's mansion.</span>                                   <span style=\"color: #d4b702; text-decoration-color: #d4b702\">│</span>\n",
              "<span style=\"color: #d4b702; text-decoration-color: #d4b702\">│</span>                                                                                                                 <span style=\"color: #d4b702; text-decoration-color: #d4b702\">│</span>\n",
              "<span style=\"color: #d4b702; text-decoration-color: #d4b702\">╰─ LiteLLMModel - gemini/gemini-2.0-flash-lite ───────────────────────────────────────────────────────────────────╯</span>\n",
              "</pre>\n"
            ]
          },
          "metadata": {}
        },
        {
          "output_type": "display_data",
          "data": {
            "text/plain": [
              "\u001b[38;2;212;183;2m━━━━━━━━━━━━━━━━━━━━━━━━━━━━━━━━━━━━━━━━━━━━━━━━━━━━━ \u001b[0m\u001b[1mStep \u001b[0m\u001b[1;36m1\u001b[0m\u001b[38;2;212;183;2m ━━━━━━━━━━━━━━━━━━━━━━━━━━━━━━━━━━━━━━━━━━━━━━━━━━━━━━\u001b[0m\n"
            ],
            "text/html": [
              "<pre style=\"white-space:pre;overflow-x:auto;line-height:normal;font-family:Menlo,'DejaVu Sans Mono',consolas,'Courier New',monospace\"><span style=\"color: #d4b702; text-decoration-color: #d4b702\">━━━━━━━━━━━━━━━━━━━━━━━━━━━━━━━━━━━━━━━━━━━━━━━━━━━━━ </span><span style=\"font-weight: bold\">Step </span><span style=\"color: #008080; text-decoration-color: #008080; font-weight: bold\">1</span><span style=\"color: #d4b702; text-decoration-color: #d4b702\"> ━━━━━━━━━━━━━━━━━━━━━━━━━━━━━━━━━━━━━━━━━━━━━━━━━━━━━━</span>\n",
              "</pre>\n"
            ]
          },
          "metadata": {}
        },
        {
          "output_type": "display_data",
          "data": {
            "text/plain": [
              "╭─────────────────────────────────────────────────────────────────────────────────────────────────────────────────╮\n",
              "│ Calling tool: 'web_search' with arguments: {'query': 'best music recommendations for a party at a mansion'}     │\n",
              "╰─────────────────────────────────────────────────────────────────────────────────────────────────────────────────╯\n"
            ],
            "text/html": [
              "<pre style=\"white-space:pre;overflow-x:auto;line-height:normal;font-family:Menlo,'DejaVu Sans Mono',consolas,'Courier New',monospace\">╭─────────────────────────────────────────────────────────────────────────────────────────────────────────────────╮\n",
              "│ Calling tool: 'web_search' with arguments: {'query': 'best music recommendations for a party at a mansion'}     │\n",
              "╰─────────────────────────────────────────────────────────────────────────────────────────────────────────────────╯\n",
              "</pre>\n"
            ]
          },
          "metadata": {}
        },
        {
          "output_type": "display_data",
          "data": {
            "text/plain": [
              "Observations: ## Search Results\n",
              "\n",
              "|\u001b[1;36m20\u001b[0m Best Celebration Songs for Your Party Playlist - The Knot\u001b[1m]\u001b[0m\u001b[1m(\u001b[0m\u001b[4;94mhttps://www.theknot.com/content/celebration-songs\u001b[0m\u001b[4;94m)\u001b[0m\n",
              "Celebrate good times with the best celebration songs, perfect for bringing everyone to the dance floor to \n",
              "scream-sing your favorite celebratory lyrics. Earn cash as you plan. Get a $\u001b[1;36m20\u001b[0m gift card for every \u001b[1;36m200\u001b[0m points. \u001b[33m...\u001b[0m \n",
              "Few celebration party songs hold a candle to this one by Rare Earth, which has been a must-have addition to any \n",
              "wedding song \u001b[33m...\u001b[0m\n",
              "\n",
              "|The \u001b[1;36m75\u001b[0m Best Party Songs That Will Get Everyone Dancing - \n",
              "Gear4music\u001b[1m]\u001b[0m\u001b[1m(\u001b[0m\u001b[4;94mhttps://www.gear4music.com/blog/best-party-songs/\u001b[0m\u001b[4;94m)\u001b[0m\n",
              "The best party songs \u001b[1;36m1\u001b[0m. \u001b[32m\"September\"\u001b[0m - Earth, Wind & Fire \u001b[1m(\u001b[0m\u001b[1;36m1978\u001b[0m\u001b[1m)\u001b[0m Quite possibly the best party song. An infectious \n",
              "mix of funk and soul, \u001b[32m\"September\"\u001b[0m is celebrated for its upbeat melody and \u001b[32m\"ba-dee-ya\"\u001b[0m chorus, making it a timeless \n",
              "dance favorite.\n",
              "\n",
              "|\u001b[1;36m45\u001b[0m Songs That Get Your Event Guests on the Dance Floor Every \n",
              "Time\u001b[1m]\u001b[0m\u001b[1m(\u001b[0m\u001b[4;94mhttps://hub.theeventplannerexpo.com/entertainment/35-songs-that-get-your-event-guests-on-the-dance-floor-ever\u001b[0m\n",
              "\u001b[4;94my-time\u001b[0m\u001b[4;94m)\u001b[0m\n",
              "You'll know your client's event best, including music genre preferences and styles. But these songs are wildly \n",
              "popular among many generations and are always great to have on standby should your dance guests need a boost. Party\n",
              "Songs \u001b[32m\"Flowers\"\u001b[0m by Miley Cyrus \u001b[1m(\u001b[0m\u001b[1;36m2023\u001b[0m\u001b[1m)\u001b[0m \u001b[32m\"TQG\"\u001b[0m by KAROL G & Shakira \u001b[1m(\u001b[0m\u001b[1;36m2023\u001b[0m\u001b[1m)\u001b[0m \u001b[32m\"TRUSTFALL\"\u001b[0m by P!nk \u001b[1m(\u001b[0m\u001b[1;36m2023\u001b[0m\u001b[1m)\u001b[0m\n",
              "\n",
              "|\u001b[1;36m50\u001b[0m+ Best Songs For Your Next Party in \u001b[1;36m2025\u001b[0m - Aleka's \n",
              "Get-Together\u001b[1m]\u001b[0m\u001b[1m(\u001b[0m\u001b[4;94mhttps://alekasgettogether.com/top-songs-for-any-party/\u001b[0m\u001b[4;94m)\u001b[0m\n",
              "Whether you're planning a How To Host The Best Party At Home or just want to liven up your playlist, we've got you \n",
              "covered with \u001b[1;36m100\u001b[0m crowd-pleasing tunes. From timeless classics to modern hits, these songs are guaranteed to keep \n",
              "the energy high and the good times rolling all night long. \u001b[1;36m50\u001b[0m Popular Party Songs. Uptown Funk - Mark Ronson ft \u001b[33m...\u001b[0m\n",
              "\n",
              "|\u001b[1;36m50\u001b[0m Songs on Every Event Planner's Playlist - \n",
              "Eventbrite\u001b[1m]\u001b[0m\u001b[1m(\u001b[0m\u001b[4;94mhttps://www.eventbrite.com/blog/event-planning-playlist-ds00/\u001b[0m\u001b[4;94m)\u001b[0m\n",
              "Music sets the mood and provides the soundtrack \u001b[1m(\u001b[0mliterally\u001b[1m)\u001b[0m for a memorable and exciting time. While the right \n",
              "songs can enhance the experience, the wrong event music can throw off the vibe. For example, fast-paced songs \n",
              "probably aren't the best fit for a formal gala. And smooth jazz is likely to lull your guests at a motivational \n",
              "conference.\n",
              "\n",
              "|\u001b[1;36m104\u001b[0m Best Wedding Reception Songs to Dance to at Your Party - \n",
              "Brides\u001b[1m]\u001b[0m\u001b[1m(\u001b[0m\u001b[4;94mhttps://www.brides.com/most-requested-wedding-songs-of-all-time-4774512\u001b[0m\u001b[4;94m)\u001b[0m\n",
              "Looking for the ultimate wedding reception playlist? We asked five experts to share \u001b[1;36m104\u001b[0m of the most requested \n",
              "wedding reception songs to get you and your guests out on the dance floor. Use their \u001b[33m...\u001b[0m\n",
              "\n",
              "|\u001b[1;36m100\u001b[0m+ New Wedding Songs For \u001b[1;36m2024\u001b[0m To Play At Your \n",
              "Reception\u001b[1m]\u001b[0m\u001b[1m(\u001b[0m\u001b[4;94mhttps://mansiononmainstreet.com/100-new-wedding-songs-for-2024-to-play-at-your-reception/\u001b[0m\u001b[4;94m)\u001b[0m\n",
              "Photo by Unsplash. Your wedding guests will be of different generations: from grandparents to nephews and nieces to\n",
              "friends of your own age. That is why both wedding planning experts and modern couples agree that today's weddings \n",
              "should feature a good mix of new wedding songs \u001b[1m(\u001b[0m\u001b[1;36m40\u001b[0m% of your playlist\u001b[1m)\u001b[0m as well as the classics \u001b[1m(\u001b[0m\u001b[1;36m60\u001b[0m% of your wedding \n",
              "party playlist\u001b[1m)\u001b[0m.\n",
              "\n",
              "|\u001b[1;36m35\u001b[0m Best Party Songs to Help You Get Down & Boogie - MidderMusic\u001b[1m]\u001b[0m\u001b[1m(\u001b[0m\u001b[4;94mhttps://middermusic.com/best-party-songs/\u001b[0m\u001b[4;94m)\u001b[0m\n",
              "Best Party Songs - Final Thoughts . It wasn't easy to pick the best party songs, but we tried to cover different \n",
              "styles and genres so there's something for everyone. Nevertheless, all of the songs we mentioned today are the \n",
              "world's top party songs. And they will certainly get you in the party mood! Similar Playlists: Best Sing-Along \n",
              "Songs\n",
              "\n",
              "|\u001b[1;36m75\u001b[0m of the Best Wedding Party Songs to Add to Your Reception Music \n",
              "\u001b[33m...\u001b[0m\u001b[1m]\u001b[0m\u001b[1m(\u001b[0m\u001b[4;94mhttps://www.hitched.co.uk/wedding-songs/wedding-party/\u001b[0m\u001b[4;94m)\u001b[0m\n",
              "Technically, your wedding ceremony, that precious moment when you tie the knot, is the most important part of your \n",
              "big day, but it's your choice of wedding party songs that'll make guests want to boogie all night long - it's the \n",
              "ultimate wedding guest entertainment.. Secretly, everyone looks forward to the reception, and a good one requires \n",
              "stellar entertainment to set the right tone and bring \u001b[33m...\u001b[0m\n",
              "\n",
              "|The Ultimate Wedding Playlist: \u001b[1;36m1000\u001b[0m+ Party Songs to Get Your Guests \n",
              "\u001b[33m...\u001b[0m\u001b[1m]\u001b[0m\u001b[1m(\u001b[0m\u001b[4;94mhttps://www.bandsforhire.net/blog/evening-playlist\u001b[0m\u001b[4;94m)\u001b[0m\n",
              "\u001b[1;36m4\u001b[0m. Consider your specific audience and tailor your wedding party playlist to suit everyone \u001b[1m(\u001b[0mincluding yourself!\u001b[1m)\u001b[0m. \n",
              "Variety is the key. \u001b[1;36m5\u001b[0m. Don't worry too much about keeping it uber-cool; it is a wedding party after all and fun is \n",
              "the name of the game. There's absolutely no shame in throwing in the odd cheesetastic party song.\n"
            ],
            "text/html": [
              "<pre style=\"white-space:pre;overflow-x:auto;line-height:normal;font-family:Menlo,'DejaVu Sans Mono',consolas,'Courier New',monospace\">Observations: ## Search Results\n",
              "\n",
              "|<span style=\"color: #008080; text-decoration-color: #008080; font-weight: bold\">20</span> Best Celebration Songs for Your Party Playlist - The Knot<span style=\"font-weight: bold\">](</span><span style=\"color: #0000ff; text-decoration-color: #0000ff; text-decoration: underline\">https://www.theknot.com/content/celebration-songs)</span>\n",
              "Celebrate good times with the best celebration songs, perfect for bringing everyone to the dance floor to \n",
              "scream-sing your favorite celebratory lyrics. Earn cash as you plan. Get a $<span style=\"color: #008080; text-decoration-color: #008080; font-weight: bold\">20</span> gift card for every <span style=\"color: #008080; text-decoration-color: #008080; font-weight: bold\">200</span> points. <span style=\"color: #808000; text-decoration-color: #808000\">...</span> \n",
              "Few celebration party songs hold a candle to this one by Rare Earth, which has been a must-have addition to any \n",
              "wedding song <span style=\"color: #808000; text-decoration-color: #808000\">...</span>\n",
              "\n",
              "|The <span style=\"color: #008080; text-decoration-color: #008080; font-weight: bold\">75</span> Best Party Songs That Will Get Everyone Dancing - \n",
              "Gear4music<span style=\"font-weight: bold\">](</span><span style=\"color: #0000ff; text-decoration-color: #0000ff; text-decoration: underline\">https://www.gear4music.com/blog/best-party-songs/)</span>\n",
              "The best party songs <span style=\"color: #008080; text-decoration-color: #008080; font-weight: bold\">1</span>. <span style=\"color: #008000; text-decoration-color: #008000\">\"September\"</span> - Earth, Wind &amp; Fire <span style=\"font-weight: bold\">(</span><span style=\"color: #008080; text-decoration-color: #008080; font-weight: bold\">1978</span><span style=\"font-weight: bold\">)</span> Quite possibly the best party song. An infectious \n",
              "mix of funk and soul, <span style=\"color: #008000; text-decoration-color: #008000\">\"September\"</span> is celebrated for its upbeat melody and <span style=\"color: #008000; text-decoration-color: #008000\">\"ba-dee-ya\"</span> chorus, making it a timeless \n",
              "dance favorite.\n",
              "\n",
              "|<span style=\"color: #008080; text-decoration-color: #008080; font-weight: bold\">45</span> Songs That Get Your Event Guests on the Dance Floor Every \n",
              "Time<span style=\"font-weight: bold\">](</span><span style=\"color: #0000ff; text-decoration-color: #0000ff; text-decoration: underline\">https://hub.theeventplannerexpo.com/entertainment/35-songs-that-get-your-event-guests-on-the-dance-floor-ever</span>\n",
              "<span style=\"color: #0000ff; text-decoration-color: #0000ff; text-decoration: underline\">y-time)</span>\n",
              "You'll know your client's event best, including music genre preferences and styles. But these songs are wildly \n",
              "popular among many generations and are always great to have on standby should your dance guests need a boost. Party\n",
              "Songs <span style=\"color: #008000; text-decoration-color: #008000\">\"Flowers\"</span> by Miley Cyrus <span style=\"font-weight: bold\">(</span><span style=\"color: #008080; text-decoration-color: #008080; font-weight: bold\">2023</span><span style=\"font-weight: bold\">)</span> <span style=\"color: #008000; text-decoration-color: #008000\">\"TQG\"</span> by KAROL G &amp; Shakira <span style=\"font-weight: bold\">(</span><span style=\"color: #008080; text-decoration-color: #008080; font-weight: bold\">2023</span><span style=\"font-weight: bold\">)</span> <span style=\"color: #008000; text-decoration-color: #008000\">\"TRUSTFALL\"</span> by P!nk <span style=\"font-weight: bold\">(</span><span style=\"color: #008080; text-decoration-color: #008080; font-weight: bold\">2023</span><span style=\"font-weight: bold\">)</span>\n",
              "\n",
              "|<span style=\"color: #008080; text-decoration-color: #008080; font-weight: bold\">50</span>+ Best Songs For Your Next Party in <span style=\"color: #008080; text-decoration-color: #008080; font-weight: bold\">2025</span> - Aleka's \n",
              "Get-Together<span style=\"font-weight: bold\">](</span><span style=\"color: #0000ff; text-decoration-color: #0000ff; text-decoration: underline\">https://alekasgettogether.com/top-songs-for-any-party/)</span>\n",
              "Whether you're planning a How To Host The Best Party At Home or just want to liven up your playlist, we've got you \n",
              "covered with <span style=\"color: #008080; text-decoration-color: #008080; font-weight: bold\">100</span> crowd-pleasing tunes. From timeless classics to modern hits, these songs are guaranteed to keep \n",
              "the energy high and the good times rolling all night long. <span style=\"color: #008080; text-decoration-color: #008080; font-weight: bold\">50</span> Popular Party Songs. Uptown Funk - Mark Ronson ft <span style=\"color: #808000; text-decoration-color: #808000\">...</span>\n",
              "\n",
              "|<span style=\"color: #008080; text-decoration-color: #008080; font-weight: bold\">50</span> Songs on Every Event Planner's Playlist - \n",
              "Eventbrite<span style=\"font-weight: bold\">](</span><span style=\"color: #0000ff; text-decoration-color: #0000ff; text-decoration: underline\">https://www.eventbrite.com/blog/event-planning-playlist-ds00/)</span>\n",
              "Music sets the mood and provides the soundtrack <span style=\"font-weight: bold\">(</span>literally<span style=\"font-weight: bold\">)</span> for a memorable and exciting time. While the right \n",
              "songs can enhance the experience, the wrong event music can throw off the vibe. For example, fast-paced songs \n",
              "probably aren't the best fit for a formal gala. And smooth jazz is likely to lull your guests at a motivational \n",
              "conference.\n",
              "\n",
              "|<span style=\"color: #008080; text-decoration-color: #008080; font-weight: bold\">104</span> Best Wedding Reception Songs to Dance to at Your Party - \n",
              "Brides<span style=\"font-weight: bold\">](</span><span style=\"color: #0000ff; text-decoration-color: #0000ff; text-decoration: underline\">https://www.brides.com/most-requested-wedding-songs-of-all-time-4774512)</span>\n",
              "Looking for the ultimate wedding reception playlist? We asked five experts to share <span style=\"color: #008080; text-decoration-color: #008080; font-weight: bold\">104</span> of the most requested \n",
              "wedding reception songs to get you and your guests out on the dance floor. Use their <span style=\"color: #808000; text-decoration-color: #808000\">...</span>\n",
              "\n",
              "|<span style=\"color: #008080; text-decoration-color: #008080; font-weight: bold\">100</span>+ New Wedding Songs For <span style=\"color: #008080; text-decoration-color: #008080; font-weight: bold\">2024</span> To Play At Your \n",
              "Reception<span style=\"font-weight: bold\">](</span><span style=\"color: #0000ff; text-decoration-color: #0000ff; text-decoration: underline\">https://mansiononmainstreet.com/100-new-wedding-songs-for-2024-to-play-at-your-reception/)</span>\n",
              "Photo by Unsplash. Your wedding guests will be of different generations: from grandparents to nephews and nieces to\n",
              "friends of your own age. That is why both wedding planning experts and modern couples agree that today's weddings \n",
              "should feature a good mix of new wedding songs <span style=\"font-weight: bold\">(</span><span style=\"color: #008080; text-decoration-color: #008080; font-weight: bold\">40</span>% of your playlist<span style=\"font-weight: bold\">)</span> as well as the classics <span style=\"font-weight: bold\">(</span><span style=\"color: #008080; text-decoration-color: #008080; font-weight: bold\">60</span>% of your wedding \n",
              "party playlist<span style=\"font-weight: bold\">)</span>.\n",
              "\n",
              "|<span style=\"color: #008080; text-decoration-color: #008080; font-weight: bold\">35</span> Best Party Songs to Help You Get Down &amp; Boogie - MidderMusic<span style=\"font-weight: bold\">](</span><span style=\"color: #0000ff; text-decoration-color: #0000ff; text-decoration: underline\">https://middermusic.com/best-party-songs/)</span>\n",
              "Best Party Songs - Final Thoughts . It wasn't easy to pick the best party songs, but we tried to cover different \n",
              "styles and genres so there's something for everyone. Nevertheless, all of the songs we mentioned today are the \n",
              "world's top party songs. And they will certainly get you in the party mood! Similar Playlists: Best Sing-Along \n",
              "Songs\n",
              "\n",
              "|<span style=\"color: #008080; text-decoration-color: #008080; font-weight: bold\">75</span> of the Best Wedding Party Songs to Add to Your Reception Music \n",
              "<span style=\"color: #808000; text-decoration-color: #808000\">...</span><span style=\"font-weight: bold\">](</span><span style=\"color: #0000ff; text-decoration-color: #0000ff; text-decoration: underline\">https://www.hitched.co.uk/wedding-songs/wedding-party/)</span>\n",
              "Technically, your wedding ceremony, that precious moment when you tie the knot, is the most important part of your \n",
              "big day, but it's your choice of wedding party songs that'll make guests want to boogie all night long - it's the \n",
              "ultimate wedding guest entertainment.. Secretly, everyone looks forward to the reception, and a good one requires \n",
              "stellar entertainment to set the right tone and bring <span style=\"color: #808000; text-decoration-color: #808000\">...</span>\n",
              "\n",
              "|The Ultimate Wedding Playlist: <span style=\"color: #008080; text-decoration-color: #008080; font-weight: bold\">1000</span>+ Party Songs to Get Your Guests \n",
              "<span style=\"color: #808000; text-decoration-color: #808000\">...</span><span style=\"font-weight: bold\">](</span><span style=\"color: #0000ff; text-decoration-color: #0000ff; text-decoration: underline\">https://www.bandsforhire.net/blog/evening-playlist)</span>\n",
              "<span style=\"color: #008080; text-decoration-color: #008080; font-weight: bold\">4</span>. Consider your specific audience and tailor your wedding party playlist to suit everyone <span style=\"font-weight: bold\">(</span>including yourself!<span style=\"font-weight: bold\">)</span>. \n",
              "Variety is the key. <span style=\"color: #008080; text-decoration-color: #008080; font-weight: bold\">5</span>. Don't worry too much about keeping it uber-cool; it is a wedding party after all and fun is \n",
              "the name of the game. There's absolutely no shame in throwing in the odd cheesetastic party song.\n",
              "</pre>\n"
            ]
          },
          "metadata": {}
        },
        {
          "output_type": "display_data",
          "data": {
            "text/plain": [
              "\u001b[2m[Step 1: Duration 9.12 seconds| Input tokens: 1,061 | Output tokens: 13]\u001b[0m\n"
            ],
            "text/html": [
              "<pre style=\"white-space:pre;overflow-x:auto;line-height:normal;font-family:Menlo,'DejaVu Sans Mono',consolas,'Courier New',monospace\"><span style=\"color: #7f7f7f; text-decoration-color: #7f7f7f\">[Step 1: Duration 9.12 seconds| Input tokens: 1,061 | Output tokens: 13]</span>\n",
              "</pre>\n"
            ]
          },
          "metadata": {}
        },
        {
          "output_type": "display_data",
          "data": {
            "text/plain": [
              "\u001b[38;2;212;183;2m━━━━━━━━━━━━━━━━━━━━━━━━━━━━━━━━━━━━━━━━━━━━━━━━━━━━━ \u001b[0m\u001b[1mStep \u001b[0m\u001b[1;36m2\u001b[0m\u001b[38;2;212;183;2m ━━━━━━━━━━━━━━━━━━━━━━━━━━━━━━━━━━━━━━━━━━━━━━━━━━━━━━\u001b[0m\n"
            ],
            "text/html": [
              "<pre style=\"white-space:pre;overflow-x:auto;line-height:normal;font-family:Menlo,'DejaVu Sans Mono',consolas,'Courier New',monospace\"><span style=\"color: #d4b702; text-decoration-color: #d4b702\">━━━━━━━━━━━━━━━━━━━━━━━━━━━━━━━━━━━━━━━━━━━━━━━━━━━━━ </span><span style=\"font-weight: bold\">Step </span><span style=\"color: #008080; text-decoration-color: #008080; font-weight: bold\">2</span><span style=\"color: #d4b702; text-decoration-color: #d4b702\"> ━━━━━━━━━━━━━━━━━━━━━━━━━━━━━━━━━━━━━━━━━━━━━━━━━━━━━━</span>\n",
              "</pre>\n"
            ]
          },
          "metadata": {}
        },
        {
          "output_type": "display_data",
          "data": {
            "text/plain": [
              "╭─────────────────────────────────────────────────────────────────────────────────────────────────────────────────╮\n",
              "│ Calling tool: 'final_answer' with arguments: {'answer': \"Based on the search results, here are some music       │\n",
              "│ recommendations for a party at the Wayne's mansion. The music should be a mix to cater to different             │\n",
              "│ guests:\\n\\n*   **Uptown Funk** by Mark Ronson ft. Bruno Mars (Classic, crowd-pleaser)\\n*   **September** by     │\n",
              "│ Earth, Wind & Fire (Upbeat and danceable)\\n*   **Flowers** by Miley Cyrus (Popular current hit)\\n*   **TQG** by │\n",
              "│ KAROL G & Shakira (Popular current hit)\\n*   **TRUSTFALL** by P!nk (Popular current hit)\\n*   A mix of classic  │\n",
              "│ celebration songs and modern hits. Consider songs from the lists provided in the search results for a           │\n",
              "│ well-rounded playlist.\\n*   Consider your specific audience and tailor your party playlist to suit everyone.    │\n",
              "│ Variety is the key\"}                                                                                            │\n",
              "╰─────────────────────────────────────────────────────────────────────────────────────────────────────────────────╯\n"
            ],
            "text/html": [
              "<pre style=\"white-space:pre;overflow-x:auto;line-height:normal;font-family:Menlo,'DejaVu Sans Mono',consolas,'Courier New',monospace\">╭─────────────────────────────────────────────────────────────────────────────────────────────────────────────────╮\n",
              "│ Calling tool: 'final_answer' with arguments: {'answer': \"Based on the search results, here are some music       │\n",
              "│ recommendations for a party at the Wayne's mansion. The music should be a mix to cater to different             │\n",
              "│ guests:\\n\\n*   **Uptown Funk** by Mark Ronson ft. Bruno Mars (Classic, crowd-pleaser)\\n*   **September** by     │\n",
              "│ Earth, Wind &amp; Fire (Upbeat and danceable)\\n*   **Flowers** by Miley Cyrus (Popular current hit)\\n*   **TQG** by │\n",
              "│ KAROL G &amp; Shakira (Popular current hit)\\n*   **TRUSTFALL** by P!nk (Popular current hit)\\n*   A mix of classic  │\n",
              "│ celebration songs and modern hits. Consider songs from the lists provided in the search results for a           │\n",
              "│ well-rounded playlist.\\n*   Consider your specific audience and tailor your party playlist to suit everyone.    │\n",
              "│ Variety is the key\"}                                                                                            │\n",
              "╰─────────────────────────────────────────────────────────────────────────────────────────────────────────────────╯\n",
              "</pre>\n"
            ]
          },
          "metadata": {}
        },
        {
          "output_type": "display_data",
          "data": {
            "text/plain": [
              "\u001b[1;38;2;212;183;2mFinal answer: Based on the search results, here are some music recommendations for a party at the Wayne's mansion. \u001b[0m\n",
              "\u001b[1;38;2;212;183;2mThe music should be a mix to cater to different guests:\u001b[0m\n",
              "\n",
              "\u001b[1;38;2;212;183;2m*   **Uptown Funk** by Mark Ronson ft. Bruno Mars (Classic, crowd-pleaser)\u001b[0m\n",
              "\u001b[1;38;2;212;183;2m*   **September** by Earth, Wind & Fire (Upbeat and danceable)\u001b[0m\n",
              "\u001b[1;38;2;212;183;2m*   **Flowers** by Miley Cyrus (Popular current hit)\u001b[0m\n",
              "\u001b[1;38;2;212;183;2m*   **TQG** by KAROL G & Shakira (Popular current hit)\u001b[0m\n",
              "\u001b[1;38;2;212;183;2m*   **TRUSTFALL** by P!nk (Popular current hit)\u001b[0m\n",
              "\u001b[1;38;2;212;183;2m*   A mix of classic celebration songs and modern hits. Consider songs from the lists provided in the search \u001b[0m\n",
              "\u001b[1;38;2;212;183;2mresults for a well-rounded playlist.\u001b[0m\n",
              "\u001b[1;38;2;212;183;2m*   Consider your specific audience and tailor your party playlist to suit everyone. Variety is the key\u001b[0m\n"
            ],
            "text/html": [
              "<pre style=\"white-space:pre;overflow-x:auto;line-height:normal;font-family:Menlo,'DejaVu Sans Mono',consolas,'Courier New',monospace\"><span style=\"color: #d4b702; text-decoration-color: #d4b702; font-weight: bold\">Final answer: Based on the search results, here are some music recommendations for a party at the Wayne's mansion. </span>\n",
              "<span style=\"color: #d4b702; text-decoration-color: #d4b702; font-weight: bold\">The music should be a mix to cater to different guests:</span>\n",
              "\n",
              "<span style=\"color: #d4b702; text-decoration-color: #d4b702; font-weight: bold\">*   **Uptown Funk** by Mark Ronson ft. Bruno Mars (Classic, crowd-pleaser)</span>\n",
              "<span style=\"color: #d4b702; text-decoration-color: #d4b702; font-weight: bold\">*   **September** by Earth, Wind &amp; Fire (Upbeat and danceable)</span>\n",
              "<span style=\"color: #d4b702; text-decoration-color: #d4b702; font-weight: bold\">*   **Flowers** by Miley Cyrus (Popular current hit)</span>\n",
              "<span style=\"color: #d4b702; text-decoration-color: #d4b702; font-weight: bold\">*   **TQG** by KAROL G &amp; Shakira (Popular current hit)</span>\n",
              "<span style=\"color: #d4b702; text-decoration-color: #d4b702; font-weight: bold\">*   **TRUSTFALL** by P!nk (Popular current hit)</span>\n",
              "<span style=\"color: #d4b702; text-decoration-color: #d4b702; font-weight: bold\">*   A mix of classic celebration songs and modern hits. Consider songs from the lists provided in the search </span>\n",
              "<span style=\"color: #d4b702; text-decoration-color: #d4b702; font-weight: bold\">results for a well-rounded playlist.</span>\n",
              "<span style=\"color: #d4b702; text-decoration-color: #d4b702; font-weight: bold\">*   Consider your specific audience and tailor your party playlist to suit everyone. Variety is the key</span>\n",
              "</pre>\n"
            ]
          },
          "metadata": {}
        },
        {
          "output_type": "display_data",
          "data": {
            "text/plain": [
              "\u001b[2m[Step 2: Duration 1.89 seconds| Input tokens: 3,399 | Output tokens: 191]\u001b[0m\n"
            ],
            "text/html": [
              "<pre style=\"white-space:pre;overflow-x:auto;line-height:normal;font-family:Menlo,'DejaVu Sans Mono',consolas,'Courier New',monospace\"><span style=\"color: #7f7f7f; text-decoration-color: #7f7f7f\">[Step 2: Duration 1.89 seconds| Input tokens: 3,399 | Output tokens: 191]</span>\n",
              "</pre>\n"
            ]
          },
          "metadata": {}
        },
        {
          "output_type": "execute_result",
          "data": {
            "text/plain": [
              "\"Based on the search results, here are some music recommendations for a party at the Wayne's mansion. The music should be a mix to cater to different guests:\\n\\n*   **Uptown Funk** by Mark Ronson ft. Bruno Mars (Classic, crowd-pleaser)\\n*   **September** by Earth, Wind & Fire (Upbeat and danceable)\\n*   **Flowers** by Miley Cyrus (Popular current hit)\\n*   **TQG** by KAROL G & Shakira (Popular current hit)\\n*   **TRUSTFALL** by P!nk (Popular current hit)\\n*   A mix of classic celebration songs and modern hits. Consider songs from the lists provided in the search results for a well-rounded playlist.\\n*   Consider your specific audience and tailor your party playlist to suit everyone. Variety is the key\""
            ],
            "application/vnd.google.colaboratory.intrinsic+json": {
              "type": "string"
            }
          },
          "metadata": {},
          "execution_count": 4
        }
      ],
      "source": [
        "from smolagents import ToolCallingAgent, DuckDuckGoSearchTool, HfApiModel, LiteLLMModel\n",
        "\n",
        "gemini_model = LiteLLMModel(model_id=\"gemini/gemini-2.0-flash-lite\", api_key=gemini_api_key)\n",
        "# agent = ToolCallingAgent(tools=[DuckDuckGoSearchTool()], model=HfApiModel())\n",
        "agent = ToolCallingAgent(tools=[DuckDuckGoSearchTool()], model=gemini_model)\n",
        "\n",
        "agent.run(\"Search for the best music recommendations for a party at the Wayne's mansion.\")"
      ]
    },
    {
      "cell_type": "markdown",
      "source": [
        "\n",
        "When you examine the agent's trace, instead of seeing `Executing parsed code:`, you'll see something like:\n",
        "\n",
        "```text\n",
        "╭─────────────────────────────────────────────────────────────────────────────────────────────────────────────────╮\n",
        "│ Calling tool: 'web_search' with arguments: {'query': \"best music recommendations for a party at Wayne's         │\n",
        "│ mansion\"}                                                                                                       │\n",
        "╰─────────────────────────────────────────────────────────────────────────────────────────────────────────────────╯\n",
        "```  \n",
        "\n",
        "The agent generates a structured tool call that the system processes to produce the output, rather than directly executing code like a `CodeAgent`.\n",
        "\n",
        "Now that we understand both agent types, we can choose the right one for our needs. Let's continue exploring `smolagents` to make Alfred's party a success! 🎉"
      ],
      "metadata": {
        "id": "Cl19VWGRYXrr"
      }
    }
  ],
  "metadata": {
    "colab": {
      "provenance": [],
      "include_colab_link": true
    },
    "kernelspec": {
      "display_name": "Python 3",
      "name": "python3"
    },
    "language_info": {
      "name": "python"
    }
  },
  "nbformat": 4,
  "nbformat_minor": 0
}